{
 "cells": [
  {
   "cell_type": "code",
   "execution_count": 4,
   "metadata": {},
   "outputs": [],
   "source": [
    "#!usr/bin/python\n",
    "\n",
    "\"\"\" This is a python module to define the class\n",
    "\tSeismicEvent. This class would define an event in\n",
    "\tterms of its e, n and z traces.\n",
    "\n",
    "\tAuthor: VedangW\n",
    "\"\"\"\n",
    "\n",
    "# import rsp\n",
    "# import sr\n",
    "# import complexity\n",
    "# import pe\n",
    "\n",
    "class SeismicEvent:\n",
    "\t\"\"\" A class to define an event in terms of the\n",
    "\t\te, n and z traces. There are also methods to calculate\n",
    "\t\tthe rsp, complexity, spectral event and log of power \n",
    "\t\tof event.\n",
    "\n",
    "\t\targs:\n",
    "\t\tself, stream (obspy stream object), eventname  \n",
    "\t\"\"\"\n",
    "\tdef __init__(self, stream, eventname):\n",
    "\t\tself.acceptance = True\n",
    "\t\tself.event_id = eventname\n",
    "\t\tself.e_trace = stream[0]\n",
    "\t\tself.n_trace = stream[1]\n",
    "\t\tself.z_trace = stream[2]\n",
    "\t\tself.sampling_rate = stream[0].stats.sampling_rate\n",
    "\n",
    "\t# Check if event is to be accepted\n",
    "\n",
    "\tdef get_acceptance(self,):\n",
    "\t\treturn self.acceptance\n",
    "\n",
    "\t# Get event_id of the event\n",
    "\n",
    "\tdef get_event_id(self,):\n",
    "\t\treturn self.event_id\n",
    "\n",
    "\t# Get trace of the e component\n",
    "\n",
    "\tdef get_e_trace(self,):\n",
    "\t\treturn self.e_trace\n",
    "\n",
    "\t# Get trace of the n component\n",
    "\n",
    "\tdef get_n_trace(self,):\n",
    "\t\treturn self.n_trace\n",
    "\n",
    "\t# Get trace of the z component\n",
    "\n",
    "\tdef get_z_trace(self,):\n",
    "\t\treturn self.z_trace\n",
    "\n",
    "\t# Get sampling rate of the event\n",
    "\n",
    "\tdef get_sampling_rate(self,):\n",
    "\t\treturn self.sampling_rate\n",
    "\n",
    "\t# Plot the spectrogram of the three components\n",
    "\n",
    "\tdef plot_spectrogram(self,):\n",
    "\t\tself.spectrogram()\n",
    "\n",
    "\t# Get ratio of s_wave amplitude to the p_wave amplitude\n",
    "\n",
    "# \tdef rsp(self,):\n",
    "# \t\te_p, e_s = find_ps(self.e_trace.data)\n",
    "# \t\tn_p, n_s = find_ps(self.n_trace.data)\n",
    "# \t\tz_p, z_s = find_ps(self.z_trace.data)\n",
    "\n",
    "# \t\tp_wave = z_p\n",
    "# \t\tif (n_s > e_s):\n",
    "# \t\t\ts_wave = n_s\n",
    "# \t\telse:\n",
    "# \t\t\ts_wave = e_s\n",
    "\n",
    "# \t\ttry:\n",
    "# \t\t\trsp = s_wave / p_wave\n",
    "# \t\texcept ZeroDivisionError:\n",
    "# \t\t\trsp = \"nan\"\n",
    "# \t\t\tself.acceptance = False\n",
    "\n",
    "# \t\treturn rsp\n",
    "\n",
    "# \t# Get spectral ratio of the event\n",
    "\n",
    "# \tdef sr(self,):\n",
    "# \t\te_sr = find_sr(self.e_trace.data)\n",
    "# \t\tn_sr = find_sr(self.n_trace.data)\n",
    "# \t\tz_sr = find_sr(self.z_trace.data)\n",
    "\n",
    "# \t\treturn e_sr, n_sr, z_sr\n",
    "\n",
    "# \t# Get complexity of the event\n",
    "\n",
    "# \tdef complexity(self,):\n",
    "# \t\te_c = find_c(self.e_trace.data)\n",
    "# \t\tn_c = find_c(self.n_trace.data)\n",
    "# \t\tz_c = find_c(self.z_trace.data)\n",
    "\n",
    "# \t\treturn e_c, n_c, z_c\n",
    "\n",
    "# \t# Get log of the power of the event\n",
    "\n",
    "# \tdef pe(self, ratio, comp, spectral):\n",
    "# \t\tpower_of_event = find_pe(ratio, comp, spectral)\n",
    "# \t\treturn power_of_event\n"
   ]
  },
  {
   "cell_type": "code",
   "execution_count": 20,
   "metadata": {},
   "outputs": [],
   "source": [
    "from obspy import read\n",
    "\n",
    "file = \"/home/vedang/Desktop/isrsvm/data/Saurashtra/SUR_eq/20120709134744.SR.SUR.00.BH\"\n",
    "\n",
    "e_file = file + \"E.sac\"\n",
    "n_file = file + \"N.sac\"\n",
    "z_file = file + \"Z.sac\"\n",
    "\n",
    "stream = read(e_file)\n",
    "stream += read(n_file)\n",
    "stream += read(z_file)\n",
    "\n",
    "file = file.split(\"/\")\n",
    "file = file[8]\n",
    "\n",
    "eventname = file.split(\".\")\n",
    "s = \"\"\n",
    "for a in eventname[:5]:\n",
    "    s += a\n",
    "\n",
    "seismic_event = SeismicEvent(stream, s)"
   ]
  },
  {
   "cell_type": "code",
   "execution_count": 33,
   "metadata": {},
   "outputs": [
    {
     "data": {
      "text/plain": [
       "'20120709134744SRSUR00BH'"
      ]
     },
     "execution_count": 33,
     "metadata": {},
     "output_type": "execute_result"
    }
   ],
   "source": [
    "seismic_event.get_event_id()"
   ]
  },
  {
   "cell_type": "code",
   "execution_count": 30,
   "metadata": {},
   "outputs": [
    {
     "data": {
      "text/plain": [
       "SR.SUR.00.BHE | 2012-07-09T13:47:29.000000Z - 2012-07-09T13:50:49.000000Z | 50.0 Hz, 10001 samples"
      ]
     },
     "execution_count": 30,
     "metadata": {},
     "output_type": "execute_result"
    }
   ],
   "source": [
    "seismic_event.get_e_trace()"
   ]
  },
  {
   "cell_type": "code",
   "execution_count": 31,
   "metadata": {},
   "outputs": [
    {
     "data": {
      "text/plain": [
       "SR.SUR.00.BHN | 2012-07-09T13:47:29.000000Z - 2012-07-09T13:50:49.000000Z | 50.0 Hz, 10001 samples"
      ]
     },
     "execution_count": 31,
     "metadata": {},
     "output_type": "execute_result"
    }
   ],
   "source": [
    "seismic_event.get_n_trace()"
   ]
  },
  {
   "cell_type": "code",
   "execution_count": 32,
   "metadata": {},
   "outputs": [
    {
     "data": {
      "text/plain": [
       "SR.SUR.00.BHZ | 2012-07-09T13:47:29.000000Z - 2012-07-09T13:50:49.000000Z | 50.0 Hz, 10001 samples"
      ]
     },
     "execution_count": 32,
     "metadata": {},
     "output_type": "execute_result"
    }
   ],
   "source": [
    "seismic_event.get_z_trace()"
   ]
  },
  {
   "cell_type": "code",
   "execution_count": 28,
   "metadata": {},
   "outputs": [
    {
     "data": {
      "text/plain": [
       "<__main__.SeismicEvent at 0x7f2921061e80>"
      ]
     },
     "execution_count": 28,
     "metadata": {},
     "output_type": "execute_result"
    }
   ],
   "source": [
    "seismic_event"
   ]
  },
  {
   "cell_type": "code",
   "execution_count": 29,
   "metadata": {},
   "outputs": [
    {
     "data": {
      "text/plain": [
       "50.0"
      ]
     },
     "execution_count": 29,
     "metadata": {},
     "output_type": "execute_result"
    }
   ],
   "source": [
    "seismic_event.get_sampling_rate()"
   ]
  },
  {
   "cell_type": "code",
   "execution_count": null,
   "metadata": {
    "collapsed": true
   },
   "outputs": [],
   "source": []
  }
 ],
 "metadata": {
  "kernelspec": {
   "display_name": "Python 2",
   "language": "python",
   "name": "python2"
  },
  "language_info": {
   "codemirror_mode": {
    "name": "ipython",
    "version": 3
   },
   "file_extension": ".py",
   "mimetype": "text/x-python",
   "name": "python",
   "nbconvert_exporter": "python",
   "pygments_lexer": "ipython3",
   "version": "3.6.2"
  }
 },
 "nbformat": 4,
 "nbformat_minor": 2
}
