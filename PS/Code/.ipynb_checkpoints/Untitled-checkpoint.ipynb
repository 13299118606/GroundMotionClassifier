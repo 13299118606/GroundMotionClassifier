{
 "cells": [
  {
   "cell_type": "code",
   "execution_count": 1,
   "metadata": {},
   "outputs": [
    {
     "data": {
      "text/plain": [
       "Type help() for interactive help, or help(object) for help about object."
      ]
     },
     "execution_count": 1,
     "metadata": {},
     "output_type": "execute_result"
    }
   ],
   "source": [
    "help"
   ]
  },
  {
   "cell_type": "code",
   "execution_count": 3,
   "metadata": {
    "collapsed": true
   },
   "outputs": [],
   "source": [
    "quickref"
   ]
  },
  {
   "cell_type": "code",
   "execution_count": 4,
   "metadata": {
    "collapsed": true
   },
   "outputs": [],
   "source": [
    "import pandas as pd\n",
    "\n",
    "read = pd.read_csv('featurestore.csv')"
   ]
  },
  {
   "cell_type": "code",
   "execution_count": 5,
   "metadata": {},
   "outputs": [
    {
     "name": "stdout",
     "output_type": "stream",
     "text": [
      "    Unnamed: 0  complexity    logpoe  label       class\n",
      "0            0    0.842330  0.115783      0  Earthquake\n",
      "1            1    2.016114  0.793794      0  Earthquake\n",
      "2            2   -0.793309 -0.180222      0  Earthquake\n",
      "3            3   -0.242307 -1.033228      0  Earthquake\n",
      "4            4    1.224059  0.207816      0  Earthquake\n",
      "5            5    1.001047  0.169844      0  Earthquake\n",
      "6            6    0.393953 -0.499836      0  Earthquake\n",
      "7            7    1.113663  0.098818      0  Earthquake\n",
      "8            8   -0.516470 -0.560625      0  Earthquake\n",
      "9            9    1.123482 -0.170592      0  Earthquake\n",
      "10          10    1.128203 -0.171257      0  Earthquake\n",
      "11          11    3.014991  1.150690      0  Earthquake\n",
      "12          12    0.472147 -0.556965      0  Earthquake\n",
      "13          13   -3.010181  0.560479      0  Earthquake\n",
      "14          14    0.508801 -0.551223      0  Earthquake\n",
      "15          15    1.104666  0.343668      0  Earthquake\n",
      "16          16   -8.587590  1.661242      0  Earthquake\n",
      "17          17    1.130474  0.635284      0  Earthquake\n",
      "18          18    2.166325  1.099665      0  Earthquake\n",
      "19          19   -0.742193 -0.267712      0  Earthquake\n",
      "20          20    0.739621  0.288455      0  Earthquake\n",
      "21          21    1.083947 -0.206050      0  Earthquake\n",
      "22          22    1.897835  0.861662      0  Earthquake\n",
      "23          23    0.979516  0.578755      0  Earthquake\n",
      "24          24   -0.804491 -0.419441      0  Earthquake\n",
      "25          25    1.110390 -0.184853      0  Earthquake\n",
      "26          26    1.112145 -0.183547      0  Earthquake\n",
      "27          27   -0.822973 -0.438679      0  Earthquake\n",
      "28          28    0.445331 -0.812689      0  Earthquake\n",
      "29          29    1.587879  0.769932      0  Earthquake\n",
      "30          30   -1.306027 -0.059851      0  Earthquake\n",
      "31          31    0.012643 -3.617093      0  Earthquake\n",
      "32          32    1.120326 -0.177186      0  Earthquake\n",
      "33          33    0.063652 -2.190226      0  Earthquake\n",
      "34          34   10.986652  1.554521      0  Earthquake\n",
      "35          35    1.107747  0.441687      0  Earthquake\n",
      "36          36    1.106176  0.627958      0  Earthquake\n",
      "37          37    1.072930  0.616334      0  Earthquake\n",
      "38          38    1.107506 -0.183706      0  Earthquake\n",
      "39          39    1.108238 -0.183306      0  Earthquake\n",
      "40          40    3.283358  0.763737      0  Earthquake\n",
      "41          41    1.237337  0.206543      1    Blasting\n",
      "42          42    0.039411 -2.533164      1    Blasting\n",
      "43          43    1.139276 -0.162997      1    Blasting\n",
      "44          44    1.142842 -0.160218      1    Blasting\n",
      "45          45    1.142927 -0.160399      1    Blasting\n",
      "46          46    1.135432 -0.161125      1    Blasting\n",
      "47          47    1.143465 -0.155702      1    Blasting\n",
      "48          48    0.884497 -0.188922      1    Blasting\n",
      "49          49    3.063361  1.114626      1    Blasting\n",
      "50          50    0.975517  0.080806      1    Blasting\n",
      "51          51    0.317616 -0.751130      1    Blasting\n",
      "52          52    1.145194 -0.154373      1    Blasting\n",
      "53          53    0.914410 -0.358123      1    Blasting\n",
      "54          54    0.721428 -0.093048      1    Blasting\n"
     ]
    }
   ],
   "source": [
    "print read\n"
   ]
  },
  {
   "cell_type": "code",
   "execution_count": 6,
   "metadata": {
    "collapsed": true
   },
   "outputs": [],
   "source": [
    "import plotly\n",
    "import numpy as np\n",
    "from Seismogram import Seismogram\n",
    "import plotly.graph_objs as go\n",
    "\n",
    "import plotly.dashboard_objs as dashboard\n",
    "\n",
    "import IPython.display\n",
    "from IPython.display import Image"
   ]
  },
  {
   "cell_type": "code",
   "execution_count": 8,
   "metadata": {},
   "outputs": [
    {
     "data": {
      "text/html": [
       "<script>requirejs.config({paths: { 'plotly': ['https://cdn.plot.ly/plotly-latest.min']},});if(!window.Plotly) {{require(['plotly'],function(plotly) {window.Plotly=plotly;});}}</script>"
      ],
      "text/vnd.plotly.v1+html": [
       "<script>requirejs.config({paths: { 'plotly': ['https://cdn.plot.ly/plotly-latest.min']},});if(!window.Plotly) {{require(['plotly'],function(plotly) {window.Plotly=plotly;});}}</script>"
      ]
     },
     "metadata": {},
     "output_type": "display_data"
    },
    {
     "data": {
      "text/html": [
       "\n",
       "<!DOCTYPE HTML>\n",
       "<html>\n",
       "  <head>\n",
       "    <style>\n",
       "      body {\n",
       "        margin: 0px;\n",
       "        padding: 0px;\n",
       "      }\n",
       "    </style>\n",
       "  </head>\n",
       "  <body>\n",
       "    <canvas id=\"myCanvas\" width=\"400\" height=\"400\"></canvas>\n",
       "    <script>\n",
       "      var canvas = document.getElementById('myCanvas');\n",
       "      var context = canvas.getContext('2d');\n",
       "      <!-- Dashboard -->\n",
       "      context.beginPath();\n",
       "      context.rect(0, 0, 400, 400);\n",
       "      context.lineWidth = 2;\n",
       "      context.strokeStyle = 'black';\n",
       "      context.stroke();\n",
       "      </script>\n",
       "  </body>\n",
       "</html>\n"
      ],
      "text/plain": [
       "<IPython.core.display.HTML object>"
      ]
     },
     "execution_count": 8,
     "metadata": {},
     "output_type": "execute_result"
    }
   ],
   "source": [
    "plotly.offline.init_notebook_mode(connected=True)\n",
    "\n",
    "my_dboard = dashboard.Dashboard()\n",
    "my_dboard.get_preview()\n"
   ]
  },
  {
   "cell_type": "code",
   "execution_count": 10,
   "metadata": {
    "collapsed": true
   },
   "outputs": [],
   "source": [
    "box_1 = {\n",
    "    'type': 'box',\n",
    "    'boxType': 'plot',\n",
    "    'fileId': 'PlotBot:1296',\n",
    "    'title': 'scatter-for-dashboard'\n",
    "    'box_id': 'A1'\n",
    "}\n",
    " \n",
    "box_2 = {\n",
    "    'type': 'box',\n",
    "    'boxType': 'plot',\n",
    "    'fileId': '',\n",
    "    'title': 'pie-for-dashboard'\n",
    "}\n",
    " \n",
    "box_3 = {\n",
    "    'type': 'box',\n",
    "    'boxType': 'plot',\n",
    "    'fileId': '',\n",
    "    'title': 'box-for-dashboard',\n",
    "    'shareKey':'uVoeGB1i8Xf4fk0b57sT2l'\n",
    "}"
   ]
  },
  {
   "cell_type": "code",
   "execution_count": 12,
   "metadata": {},
   "outputs": [
    {
     "ename": "PlotlyError",
     "evalue": "Make sure the box_id is specfied if there is at least one box in your dashboard.",
     "output_type": "error",
     "traceback": [
      "\u001b[0;31m---------------------------------------------------------------------------\u001b[0m",
      "\u001b[0;31mPlotlyError\u001b[0m                               Traceback (most recent call last)",
      "\u001b[0;32m<ipython-input-12-671eaa6cee79>\u001b[0m in \u001b[0;36m<module>\u001b[0;34m()\u001b[0m\n\u001b[0;32m----> 1\u001b[0;31m \u001b[0mmy_dboard\u001b[0m\u001b[0;34m.\u001b[0m\u001b[0minsert\u001b[0m\u001b[0;34m(\u001b[0m\u001b[0mbox_1\u001b[0m\u001b[0;34m)\u001b[0m\u001b[0;34m\u001b[0m\u001b[0m\n\u001b[0m",
      "\u001b[0;32m/usr/local/lib/python2.7/dist-packages/plotly/dashboard_objs/dashboard_objs.pyc\u001b[0m in \u001b[0;36minsert\u001b[0;34m(self, box, side, box_id)\u001b[0m\n\u001b[1;32m    454\u001b[0m             \u001b[0;32mif\u001b[0m \u001b[0mbox_id\u001b[0m \u001b[0;32mis\u001b[0m \u001b[0mNone\u001b[0m\u001b[0;34m:\u001b[0m\u001b[0;34m\u001b[0m\u001b[0m\n\u001b[1;32m    455\u001b[0m                 raise exceptions.PlotlyError(\n\u001b[0;32m--> 456\u001b[0;31m                     \u001b[0;34m\"Make sure the box_id is specfied if there is at least \"\u001b[0m\u001b[0;34m\u001b[0m\u001b[0m\n\u001b[0m\u001b[1;32m    457\u001b[0m                     \u001b[0;34m\"one box in your dashboard.\"\u001b[0m\u001b[0;34m\u001b[0m\u001b[0m\n\u001b[1;32m    458\u001b[0m                 )\n",
      "\u001b[0;31mPlotlyError\u001b[0m: Make sure the box_id is specfied if there is at least one box in your dashboard."
     ]
    }
   ],
   "source": [
    "my_dboard.insert(box_1)"
   ]
  },
  {
   "cell_type": "code",
   "execution_count": null,
   "metadata": {
    "collapsed": true
   },
   "outputs": [],
   "source": []
  }
 ],
 "metadata": {
  "kernelspec": {
   "display_name": "Python 2",
   "language": "python",
   "name": "python2"
  },
  "language_info": {
   "codemirror_mode": {
    "name": "ipython",
    "version": 2
   },
   "file_extension": ".py",
   "mimetype": "text/x-python",
   "name": "python",
   "nbconvert_exporter": "python",
   "pygments_lexer": "ipython2",
   "version": "2.7.12+"
  }
 },
 "nbformat": 4,
 "nbformat_minor": 2
}
